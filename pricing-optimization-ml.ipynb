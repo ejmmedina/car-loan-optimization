{
 "cells": [
  {
   "cell_type": "markdown",
   "metadata": {},
   "source": [
    "# Lab 1 <br> LT13"
   ]
  },
  {
   "cell_type": "code",
   "execution_count": 1,
   "metadata": {
    "ExecuteTime": {
     "end_time": "2019-08-12T04:51:32.211430Z",
     "start_time": "2019-08-12T04:51:30.391266Z"
    }
   },
   "outputs": [],
   "source": [
    "%matplotlib inline\n",
    "import pandas as pd\n",
    "import seaborn as sns\n",
    "import matplotlib.pyplot as plt"
   ]
  },
  {
   "cell_type": "markdown",
   "metadata": {},
   "source": [
    "## Data Processing"
   ]
  },
  {
   "cell_type": "code",
   "execution_count": 408,
   "metadata": {
    "ExecuteTime": {
     "end_time": "2019-08-12T14:28:17.078815Z",
     "start_time": "2019-08-12T14:27:55.840605Z"
    }
   },
   "outputs": [],
   "source": [
    "df = pd.read_excel(\"NomisB.xlsx\", na_values=' ')\n",
    "df['Previous Rate'] = df['Previous Rate'].fillna(0)"
   ]
  },
  {
   "cell_type": "code",
   "execution_count": 4,
   "metadata": {
    "ExecuteTime": {
     "end_time": "2019-08-12T04:51:54.607566Z",
     "start_time": "2019-08-12T04:51:54.596559Z"
    }
   },
   "outputs": [
    {
     "data": {
      "text/html": [
       "<div>\n",
       "<style scoped>\n",
       "    .dataframe tbody tr th:only-of-type {\n",
       "        vertical-align: middle;\n",
       "    }\n",
       "\n",
       "    .dataframe tbody tr th {\n",
       "        vertical-align: top;\n",
       "    }\n",
       "\n",
       "    .dataframe thead th {\n",
       "        text-align: right;\n",
       "    }\n",
       "</style>\n",
       "<table border=\"1\" class=\"dataframe\">\n",
       "  <thead>\n",
       "    <tr style=\"text-align: right;\">\n",
       "      <th></th>\n",
       "      <th>Tier</th>\n",
       "      <th>FICO</th>\n",
       "      <th>Approve Date</th>\n",
       "      <th>Term</th>\n",
       "      <th>Amount</th>\n",
       "      <th>Previous Rate</th>\n",
       "      <th>Car  Type</th>\n",
       "      <th>Competition rate</th>\n",
       "      <th>Outcome</th>\n",
       "      <th>Rate</th>\n",
       "      <th>Cost of Funds</th>\n",
       "      <th>Partner Bin</th>\n",
       "    </tr>\n",
       "  </thead>\n",
       "  <tbody>\n",
       "    <tr>\n",
       "      <th>0</th>\n",
       "      <td>1</td>\n",
       "      <td>743</td>\n",
       "      <td>2002-07-01</td>\n",
       "      <td>36</td>\n",
       "      <td>19100.00</td>\n",
       "      <td>0.0</td>\n",
       "      <td>N</td>\n",
       "      <td>4.95</td>\n",
       "      <td>1</td>\n",
       "      <td>4.85</td>\n",
       "      <td>1.8388</td>\n",
       "      <td>1</td>\n",
       "    </tr>\n",
       "    <tr>\n",
       "      <th>1</th>\n",
       "      <td>1</td>\n",
       "      <td>752</td>\n",
       "      <td>2002-07-01</td>\n",
       "      <td>60</td>\n",
       "      <td>36460.08</td>\n",
       "      <td>0.0</td>\n",
       "      <td>N</td>\n",
       "      <td>5.65</td>\n",
       "      <td>1</td>\n",
       "      <td>5.49</td>\n",
       "      <td>1.8388</td>\n",
       "      <td>1</td>\n",
       "    </tr>\n",
       "    <tr>\n",
       "      <th>2</th>\n",
       "      <td>1</td>\n",
       "      <td>778</td>\n",
       "      <td>2002-07-01</td>\n",
       "      <td>48</td>\n",
       "      <td>12000.00</td>\n",
       "      <td>0.0</td>\n",
       "      <td>U</td>\n",
       "      <td>5.85</td>\n",
       "      <td>1</td>\n",
       "      <td>5.85</td>\n",
       "      <td>1.8388</td>\n",
       "      <td>3</td>\n",
       "    </tr>\n",
       "    <tr>\n",
       "      <th>3</th>\n",
       "      <td>2</td>\n",
       "      <td>724</td>\n",
       "      <td>2002-07-01</td>\n",
       "      <td>60</td>\n",
       "      <td>19290.00</td>\n",
       "      <td>0.0</td>\n",
       "      <td>N</td>\n",
       "      <td>5.65</td>\n",
       "      <td>1</td>\n",
       "      <td>5.39</td>\n",
       "      <td>1.8388</td>\n",
       "      <td>3</td>\n",
       "    </tr>\n",
       "    <tr>\n",
       "      <th>4</th>\n",
       "      <td>2</td>\n",
       "      <td>700</td>\n",
       "      <td>2002-07-01</td>\n",
       "      <td>72</td>\n",
       "      <td>24461.12</td>\n",
       "      <td>0.0</td>\n",
       "      <td>N</td>\n",
       "      <td>6.25</td>\n",
       "      <td>1</td>\n",
       "      <td>6.99</td>\n",
       "      <td>1.8388</td>\n",
       "      <td>3</td>\n",
       "    </tr>\n",
       "  </tbody>\n",
       "</table>\n",
       "</div>"
      ],
      "text/plain": [
       "   Tier  FICO Approve Date  Term    Amount  Previous Rate Car  Type  \\\n",
       "0     1   743   2002-07-01    36  19100.00            0.0         N   \n",
       "1     1   752   2002-07-01    60  36460.08            0.0         N   \n",
       "2     1   778   2002-07-01    48  12000.00            0.0         U   \n",
       "3     2   724   2002-07-01    60  19290.00            0.0         N   \n",
       "4     2   700   2002-07-01    72  24461.12            0.0         N   \n",
       "\n",
       "   Competition rate  Outcome  Rate  Cost of Funds  Partner Bin  \n",
       "0              4.95        1  4.85         1.8388            1  \n",
       "1              5.65        1  5.49         1.8388            1  \n",
       "2              5.85        1  5.85         1.8388            3  \n",
       "3              5.65        1  5.39         1.8388            3  \n",
       "4              6.25        1  6.99         1.8388            3  "
      ]
     },
     "execution_count": 4,
     "metadata": {},
     "output_type": "execute_result"
    }
   ],
   "source": [
    "df.head()"
   ]
  },
  {
   "cell_type": "code",
   "execution_count": 409,
   "metadata": {
    "ExecuteTime": {
     "end_time": "2019-08-12T14:28:17.237357Z",
     "start_time": "2019-08-12T14:28:17.220400Z"
    }
   },
   "outputs": [],
   "source": [
    "df = df.drop('Approve Date', axis=1)\n"
   ]
  },
  {
   "cell_type": "code",
   "execution_count": 6,
   "metadata": {
    "ExecuteTime": {
     "end_time": "2019-08-12T04:51:54.754168Z",
     "start_time": "2019-08-12T04:51:54.743167Z"
    }
   },
   "outputs": [
    {
     "data": {
      "text/html": [
       "<div>\n",
       "<style scoped>\n",
       "    .dataframe tbody tr th:only-of-type {\n",
       "        vertical-align: middle;\n",
       "    }\n",
       "\n",
       "    .dataframe tbody tr th {\n",
       "        vertical-align: top;\n",
       "    }\n",
       "\n",
       "    .dataframe thead th {\n",
       "        text-align: right;\n",
       "    }\n",
       "</style>\n",
       "<table border=\"1\" class=\"dataframe\">\n",
       "  <thead>\n",
       "    <tr style=\"text-align: right;\">\n",
       "      <th></th>\n",
       "      <th>Tier</th>\n",
       "      <th>FICO</th>\n",
       "      <th>Term</th>\n",
       "      <th>Amount</th>\n",
       "      <th>Previous Rate</th>\n",
       "      <th>Car  Type</th>\n",
       "      <th>Competition rate</th>\n",
       "      <th>Outcome</th>\n",
       "      <th>Rate</th>\n",
       "      <th>Cost of Funds</th>\n",
       "      <th>Partner Bin</th>\n",
       "    </tr>\n",
       "  </thead>\n",
       "  <tbody>\n",
       "    <tr>\n",
       "      <th>0</th>\n",
       "      <td>1</td>\n",
       "      <td>743</td>\n",
       "      <td>36</td>\n",
       "      <td>19100.00</td>\n",
       "      <td>0.0</td>\n",
       "      <td>N</td>\n",
       "      <td>4.95</td>\n",
       "      <td>1</td>\n",
       "      <td>4.85</td>\n",
       "      <td>1.8388</td>\n",
       "      <td>1</td>\n",
       "    </tr>\n",
       "    <tr>\n",
       "      <th>1</th>\n",
       "      <td>1</td>\n",
       "      <td>752</td>\n",
       "      <td>60</td>\n",
       "      <td>36460.08</td>\n",
       "      <td>0.0</td>\n",
       "      <td>N</td>\n",
       "      <td>5.65</td>\n",
       "      <td>1</td>\n",
       "      <td>5.49</td>\n",
       "      <td>1.8388</td>\n",
       "      <td>1</td>\n",
       "    </tr>\n",
       "    <tr>\n",
       "      <th>2</th>\n",
       "      <td>1</td>\n",
       "      <td>778</td>\n",
       "      <td>48</td>\n",
       "      <td>12000.00</td>\n",
       "      <td>0.0</td>\n",
       "      <td>U</td>\n",
       "      <td>5.85</td>\n",
       "      <td>1</td>\n",
       "      <td>5.85</td>\n",
       "      <td>1.8388</td>\n",
       "      <td>3</td>\n",
       "    </tr>\n",
       "    <tr>\n",
       "      <th>3</th>\n",
       "      <td>2</td>\n",
       "      <td>724</td>\n",
       "      <td>60</td>\n",
       "      <td>19290.00</td>\n",
       "      <td>0.0</td>\n",
       "      <td>N</td>\n",
       "      <td>5.65</td>\n",
       "      <td>1</td>\n",
       "      <td>5.39</td>\n",
       "      <td>1.8388</td>\n",
       "      <td>3</td>\n",
       "    </tr>\n",
       "    <tr>\n",
       "      <th>4</th>\n",
       "      <td>2</td>\n",
       "      <td>700</td>\n",
       "      <td>72</td>\n",
       "      <td>24461.12</td>\n",
       "      <td>0.0</td>\n",
       "      <td>N</td>\n",
       "      <td>6.25</td>\n",
       "      <td>1</td>\n",
       "      <td>6.99</td>\n",
       "      <td>1.8388</td>\n",
       "      <td>3</td>\n",
       "    </tr>\n",
       "  </tbody>\n",
       "</table>\n",
       "</div>"
      ],
      "text/plain": [
       "   Tier  FICO  Term    Amount  Previous Rate Car  Type  Competition rate  \\\n",
       "0     1   743    36  19100.00            0.0         N              4.95   \n",
       "1     1   752    60  36460.08            0.0         N              5.65   \n",
       "2     1   778    48  12000.00            0.0         U              5.85   \n",
       "3     2   724    60  19290.00            0.0         N              5.65   \n",
       "4     2   700    72  24461.12            0.0         N              6.25   \n",
       "\n",
       "   Outcome  Rate  Cost of Funds  Partner Bin  \n",
       "0        1  4.85         1.8388            1  \n",
       "1        1  5.49         1.8388            1  \n",
       "2        1  5.85         1.8388            3  \n",
       "3        1  5.39         1.8388            3  \n",
       "4        1  6.99         1.8388            3  "
      ]
     },
     "execution_count": 6,
     "metadata": {},
     "output_type": "execute_result"
    }
   ],
   "source": [
    "df.head()"
   ]
  },
  {
   "cell_type": "markdown",
   "metadata": {},
   "source": [
    "## Some EDA in Python (other EDA are in supplementary and other platforms)"
   ]
  },
  {
   "cell_type": "code",
   "execution_count": 7,
   "metadata": {
    "ExecuteTime": {
     "end_time": "2019-08-12T04:51:57.521739Z",
     "start_time": "2019-08-12T04:51:57.197607Z"
    }
   },
   "outputs": [
    {
     "data": {
      "text/plain": [
       "Text(0.5, 1.01, 'Correlation Matrix of Numeric Features')"
      ]
     },
     "execution_count": 7,
     "metadata": {},
     "output_type": "execute_result"
    },
    {
     "data": {
      "image/png": "[encoded data removed]",
      "text/plain": [
       "<Figure size 1008x504 with 2 Axes>"
      ]
     },
     "metadata": {
      "needs_background": "light"
     },
     "output_type": "display_data"
    }
   ],
   "source": [
    "corr = df.corr()\n",
    "# Generate a mask for the upper triangle\n",
    "mask = np.zeros_like(corr, dtype=np.bool)\n",
    "mask[np.triu_indices_from(mask)] = True\n",
    "# Set up the matplotlib figure\n",
    "f, ax = plt.subplots(figsize=(14, 7))\n",
    "# Generate a custom diverging colormap\n",
    "cmap = sns.diverging_palette(220, 10, as_cmap=True)\n",
    "# Draw the heatmap with the mask and correct aspect ratio\n",
    "sns.heatmap(corr, mask=mask, cmap=cmap, center=0,\n",
    "            square=True, linewidths=.5, cbar_kws={\"shrink\": .5});\n",
    "ax.axes.set_title(\"Correlation Matrix of Numeric Features\", fontsize=18, y=1.01)"
   ]
  },
  {
   "cell_type": "code",
   "execution_count": 8,
   "metadata": {
    "ExecuteTime": {
     "end_time": "2019-08-12T04:55:08.002085Z",
     "start_time": "2019-08-12T04:55:06.706549Z"
    }
   },
   "outputs": [
    {
     "data": {
      "image/png": "[encoded data removed]",
      "text/plain": [
       "<Figure size 864x576 with 10 Axes>"
      ]
     },
     "metadata": {
      "needs_background": "light"
     },
     "output_type": "display_data"
    }
   ],
   "source": [
    "fig, ax = plt.subplots(2, 5, figsize=(12,8))\n",
    "df.hist(ax=ax);"
   ]
  },
  {
   "cell_type": "code",
   "execution_count": 36,
   "metadata": {
    "ExecuteTime": {
     "end_time": "2019-08-11T17:54:44.175495Z",
     "start_time": "2019-08-11T17:54:43.805663Z"
    }
   },
   "outputs": [
    {
     "data": {
      "text/plain": [
       "<matplotlib.axes._subplots.AxesSubplot at 0x23944e0fac8>"
      ]
     },
     "execution_count": 36,
     "metadata": {},
     "output_type": "execute_result"
    },
    {
     "data": {
      "image/png": "[encoded data removed]",
      "text/plain": [
       "<Figure size 432x288 with 1 Axes>"
      ]
     },
     "metadata": {
      "needs_background": "light"
     },
     "output_type": "display_data"
    }
   ],
   "source": [
    "sns.violinplot(data=df, x='Car  Type', y='Outcome')"
   ]
  },
  {
   "cell_type": "markdown",
   "metadata": {},
   "source": [
    "## Segmenting the data"
   ]
  },
  {
   "cell_type": "code",
   "execution_count": 410,
   "metadata": {
    "ExecuteTime": {
     "end_time": "2019-08-12T14:28:39.735397Z",
     "start_time": "2019-08-12T14:28:39.708420Z"
    }
   },
   "outputs": [],
   "source": [
    "df_N = df[df['Car  Type']=='N']\n",
    "df_N = df_N.drop(['Car  Type', 'Previous Rate'], axis=1)"
   ]
  },
  {
   "cell_type": "code",
   "execution_count": 249,
   "metadata": {
    "ExecuteTime": {
     "end_time": "2019-08-12T12:37:08.677162Z",
     "start_time": "2019-08-12T12:37:08.652194Z"
    }
   },
   "outputs": [],
   "source": [
    "df_U = df[df['Car  Type']=='U']\n",
    "df_U = df_U.drop(['Car  Type', 'Previous Rate'], axis=1)"
   ]
  },
  {
   "cell_type": "code",
   "execution_count": 251,
   "metadata": {
    "ExecuteTime": {
     "end_time": "2019-08-12T12:37:17.016789Z",
     "start_time": "2019-08-12T12:37:16.994850Z"
    }
   },
   "outputs": [],
   "source": [
    "df_R = df[df['Car  Type']=='R']\n",
    "df_R = df_R.drop(['Car  Type'], axis=1)"
   ]
  },
  {
   "cell_type": "code",
   "execution_count": 411,
   "metadata": {
    "ExecuteTime": {
     "end_time": "2019-08-12T14:28:43.727493Z",
     "start_time": "2019-08-12T14:28:43.687442Z"
    }
   },
   "outputs": [],
   "source": [
    "df_feat_N = pd.get_dummies(df_N, columns=['Partner Bin'])\n",
    "df_target_N = df_N['Outcome']\n",
    "df_feat_N = df_feat_N.drop('Outcome',axis=1)"
   ]
  },
  {
   "cell_type": "code",
   "execution_count": 256,
   "metadata": {
    "ExecuteTime": {
     "end_time": "2019-08-12T12:39:07.126732Z",
     "start_time": "2019-08-12T12:39:07.098761Z"
    }
   },
   "outputs": [],
   "source": [
    "df_feat_U = pd.get_dummies(df_U, columns=['Partner Bin'])\n",
    "df_target_U = df_U['Outcome']\n",
    "df_feat_U = df_feat_U.drop('Outcome',axis=1)\n",
    "\n",
    "df_feat_R = pd.get_dummies(df_R, columns=['Partner Bin'])\n",
    "df_target_R = df_R['Outcome']\n",
    "df_feat_R = df_feat_R.drop('Outcome',axis=1)"
   ]
  },
  {
   "cell_type": "code",
   "execution_count": 108,
   "metadata": {
    "ExecuteTime": {
     "end_time": "2019-08-12T10:37:04.462053Z",
     "start_time": "2019-08-12T10:37:04.454075Z"
    }
   },
   "outputs": [
    {
     "data": {
      "text/plain": [
       "0    109894\n",
       "1      9165\n",
       "Name: Outcome, dtype: int64"
      ]
     },
     "execution_count": 108,
     "metadata": {},
     "output_type": "execute_result"
    }
   ],
   "source": [
    "df_target.value_counts()"
   ]
  },
  {
   "cell_type": "code",
   "execution_count": 109,
   "metadata": {
    "ExecuteTime": {
     "end_time": "2019-08-12T10:37:04.868226Z",
     "start_time": "2019-08-12T10:37:04.674045Z"
    }
   },
   "outputs": [
    {
     "data": {
      "text/plain": [
       "<matplotlib.axes._subplots.AxesSubplot at 0x1b11495dcc0>"
      ]
     },
     "execution_count": 109,
     "metadata": {},
     "output_type": "execute_result"
    },
    {
     "data": {
      "image/png": "[encoded data removed]",
      "text/plain": [
       "<Figure size 432x288 with 1 Axes>"
      ]
     },
     "metadata": {
      "needs_background": "light"
     },
     "output_type": "display_data"
    }
   ],
   "source": [
    "df.boxplot(column='FICO', by='Tier')"
   ]
  },
  {
   "cell_type": "markdown",
   "metadata": {},
   "source": [
    "## Machine Learning Part"
   ]
  },
  {
   "cell_type": "code",
   "execution_count": 111,
   "metadata": {
    "ExecuteTime": {
     "end_time": "2019-08-12T10:37:05.571915Z",
     "start_time": "2019-08-12T10:37:05.564950Z"
    }
   },
   "outputs": [],
   "source": [
    "\n",
    "import warnings\n",
    "warnings.simplefilter(action='ignore')\n",
    "import numpy as np\n",
    "import matplotlib.pyplot as plt\n",
    "import mglearn\n",
    "import pandas as pd\n",
    "import pylab as plot\n",
    "import lmfit as lf\n",
    "import random\n",
    "\n",
    "%matplotlib inline\n",
    "\n",
    "from sklearn.linear_model import LogisticRegression\n",
    "from sklearn.linear_model import LinearRegression\n",
    "from sklearn.neighbors import KNeighborsClassifier\n",
    "from sklearn.neighbors import KNeighborsRegressor\n",
    "from sklearn.model_selection import train_test_split\n",
    "from sklearn.svm import LinearSVC\n",
    "from sklearn.linear_model import Lasso\n",
    "from sklearn.linear_model import Ridge\n",
    "from sklearn.preprocessing import MinMaxScaler\n",
    "from sklearn.preprocessing import StandardScaler\n"
   ]
  },
  {
   "cell_type": "code",
   "execution_count": null,
   "metadata": {
    "ExecuteTime": {
     "end_time": "2019-08-12T11:39:40.561256Z",
     "start_time": "2019-08-12T11:39:40.546297Z"
    }
   },
   "outputs": [],
   "source": [
    "def logistic(df_feat, df_target, n_iter, t_size, reg, scaler, top_feats=1):\n",
    "    C = [1e-8, 1e-4, 1e-3, 1e-2, 0.1, 0.2,0.4, 0.75, 1, 1.5, 3, 5, 10, 15,  20, 100, 300, 1000, 5000]\n",
    "\n",
    "    score_train = []\n",
    "    score_test = []\n",
    "    random_states = random.sample(range(100), n_iter)\n",
    "    \n",
    "    best_feats = {i:np.zeros(len(df_feat.columns)) for i in C}\n",
    "    best_intercepts = {i:0 for i in C}\n",
    "    for seed in random_states:\n",
    "        training_accuracy = []  \n",
    "        test_accuracy = []\n",
    "#         df_feat_samp = df_feat[df_target==1].sample(df_target.value_counts()[1]).append(df_feat[df_target==0].sample(df_target.value_counts()[1]))\n",
    "        X_train, X_test, y_train, y_test = train_test_split(df_feat, df_target, test_size=t_size)\n",
    "        \n",
    "        if scaler == 'ss':\n",
    "            scale = StandardScaler()\n",
    "            X_train = scale.fit_transform(X = X_train)\n",
    "            X_test = scale.transform(X = X_test)\n",
    "        elif scaler == 'mm':\n",
    "            scale = MinMaxScaler()\n",
    "            X_train = scale.fit_transform(X_train)\n",
    "            X_test = scale.transform(X_test)\n",
    "        else:\n",
    "            pass\n",
    "        \n",
    "        for alpha_run in C:\n",
    "            lr = LogisticRegression(C=alpha_run, penalty=reg).fit(X_train, y_train)\n",
    "            training_accuracy.append(lr.score(X_train, y_train))\n",
    "            test_accuracy.append(lr.score(X_test, y_test))\n",
    "            if scaler:\n",
    "                coefs = np.mean(lr.coef_, axis=0)\n",
    "                intercepts = np.mean(lr.intercept_, axis=0)\n",
    "                best_feats[alpha_run] += coefs / n_iter\n",
    "                best_intercepts[alpha_run] += intercepts / n_iter\n",
    "                \n",
    "        score_train.append(training_accuracy)\n",
    "        score_test.append(test_accuracy)\n",
    "    score = np.mean(score_test, axis=0)\n",
    "    feat_coeffs = best_feats[C[np.argmax(score)]]\n",
    "    intercept = best_intercepts[C[np.argmax(score)]]\n",
    "    if scaler:\n",
    "        return [f'Logistic {reg}', np.round(np.amax(score)*100, 4), f'C = {C[np.argmax(score)]}', scaler,\n",
    "                list(zip(df_feat.columns[np.argsort(np.abs(feat_coeffs))[-top_feats:][::-1]],\n",
    "                         feat_coeffs[np.argsort(np.abs(feat_coeffs))[-top_feats:][::-1]])),\n",
    "                feat_coeffs, intercept]\n",
    "    else:\n",
    "        return [f'Logistic {reg}', np.round(np.amax(score)*100, 4), f'C = {C[np.argmax(score)]}', scaler]\n",
    "\n",
    "def svm(df_feat, df_target, n_iter, t_size, reg, scaler, top_feats=1):\n",
    "    C = [1e-8, 1e-4, 1e-3, 1e-2, 0.1, 0.2,0.4, 0.75, 1, 1.5, 3, 5, 10, 15,  20, 100, 300, 1000, 5000]\n",
    "\n",
    "    score_train = []\n",
    "    score_test = []\n",
    "    random_states = random.sample(range(100), n_iter)\n",
    "    best_feats = {i:np.zeros(len(df_feat.columns)) for i in C}\n",
    "    best_intercepts = {i:0 for i in C}\n",
    "    for seed in random_states:\n",
    "        training_accuracy = []  \n",
    "        test_accuracy = []\n",
    "        X_train, X_test, y_train, y_test = train_test_split(df_feat, df_target, test_size=t_size, random_state=seed)\n",
    "        \n",
    "        if scaler == 'ss':\n",
    "            scale = StandardScaler()\n",
    "            X_train = scale.fit_transform(X = X_train)\n",
    "            X_test = scale.transform(X = X_test)\n",
    "        elif scaler == 'mm':\n",
    "            scale = MinMaxScaler()\n",
    "            X_train = scale.fit_transform(X_train)\n",
    "            X_test = scale.transform(X_test)\n",
    "        else:\n",
    "            pass\n",
    "\n",
    "        for alpha_run in C:\n",
    "            if reg == 'l1':\n",
    "                svc = LinearSVC(C=alpha_run, penalty=reg, loss='squared_hinge', dual=False).fit(X_train, y_train)\n",
    "            if reg == 'l2':\n",
    "                svc = LinearSVC(C=alpha_run, penalty=reg).fit(X_train, y_train)\n",
    "            training_accuracy.append(svc.score(X_train, y_train))\n",
    "            test_accuracy.append(svc.score(X_test, y_test))\n",
    "            if scaler:\n",
    "                coefs = np.mean(svc.coef_, axis=0)\n",
    "                intercepts = np.mean(svc.intercept_, axis=0)\n",
    "                best_feats[alpha_run] += coefs / n_iter\n",
    "                best_intercepts[alpha_run] += intercepts / n_iter\n",
    "\n",
    "        score_train.append(training_accuracy)\n",
    "        score_test.append(test_accuracy)\n",
    "          \n",
    "    score = np.mean(score_test, axis=0)\n",
    "    feat_coeffs = best_feats[C[np.argmax(score)]]\n",
    "\n",
    "    if scaler:\n",
    "        return [f'SVM {reg}', np.round(np.amax(score)*100, 4), f'C = {C[np.argmax(score)]}', scaler, \n",
    "                list(zip(df_feat.columns[np.argsort(np.abs(feat_coeffs))[-top_feats:][::-1]],\n",
    "                         feat_coeffs[np.argsort(np.abs(feat_coeffs))[-top_feats:][::-1]])),\n",
    "               feat_coeffs]\n",
    "    else:\n",
    "        return [f'SVM {reg}', np.round(np.amax(score)*100, 4), f'C = {C[np.argmax(score)]}', scaler]\n",
    "\n"
   ]
  },
  {
   "cell_type": "code",
   "execution_count": 553,
   "metadata": {
    "ExecuteTime": {
     "end_time": "2019-08-13T00:38:54.558249Z",
     "start_time": "2019-08-12T16:50:32.479795Z"
    }
   },
   "outputs": [
    {
     "data": {
      "text/plain": [
       "['SVM l1', 92.321, 'C = 1e-08', 'mm', 'Tier']"
      ]
     },
     "execution_count": 553,
     "metadata": {},
     "output_type": "execute_result"
    }
   ],
   "source": [
    "svm_l1_N = svm(df_feat_N, df_target_N, 20, 0.25, 'l1', 'mm')\n",
    "# svm_l2_N = svm(df_feat_N, df_target_N, 20, 0.25, 'l2', 'mm', 20)\n",
    "svm_l1_N"
   ]
  },
  {
   "cell_type": "code",
   "execution_count": 629,
   "metadata": {
    "ExecuteTime": {
     "end_time": "2019-08-13T03:55:44.235093Z",
     "start_time": "2019-08-13T03:55:44.229593Z"
    }
   },
   "outputs": [],
   "source": [
    "svm_l2_N = svm(df_feat_N, df_target_N, 20, 0.25, 'l2', 'mm', 20)\n",
    "# svm_l2_N"
   ]
  },
  {
   "cell_type": "code",
   "execution_count": 534,
   "metadata": {
    "ExecuteTime": {
     "end_time": "2019-08-12T16:08:25.138871Z",
     "start_time": "2019-08-12T16:03:47.874926Z"
    }
   },
   "outputs": [],
   "source": [
    "log_l2_N = logistic(df_feat_N, df_target_N, 20, 0.25, 'l2', 'mm', 20)\n",
    "svm_l1_N = svm(df_feat_N, df_target_N, 20, 0.25, 'l1', 'mm', 20)\n",
    "svm_l2_N = svm(df_feat_N, df_target_N, 20, 0.25, 'l2', 'mm', 20)"
   ]
  },
  {
   "cell_type": "code",
   "execution_count": 202,
   "metadata": {
    "ExecuteTime": {
     "end_time": "2019-08-12T11:45:19.405616Z",
     "start_time": "2019-08-12T11:39:45.185386Z"
    }
   },
   "outputs": [
    {
     "data": {
      "text/plain": [
       "['Logistic l1',\n",
       " 92.3062,\n",
       " 'C = 100',\n",
       " 'mm',\n",
       " [('Amount', -9.167905646876651),\n",
       "  ('Rate', -3.4264532166235107),\n",
       "  ('Term', 1.8283310256666025),\n",
       "  ('Cost of Funds', 1.1102709157749409),\n",
       "  ('FICO', -0.6604947645591195),\n",
       "  ('Partner Bin_2', -0.6110115023350889),\n",
       "  ('Tier', -0.39148390824154444),\n",
       "  ('Partner Bin_1', 0.3336298115571964),\n",
       "  ('Competition rate', -0.22348386275491824),\n",
       "  ('Partner Bin_3', -0.1326826078985141)],\n",
       " array([-0.39148391, -0.66049476,  1.82833103, -9.16790565, -0.22348386,\n",
       "        -3.42645322,  1.11027092,  0.33362981, -0.6110115 , -0.13268261]),\n",
       " 0.04593412287411823]"
      ]
     },
     "execution_count": 202,
     "metadata": {},
     "output_type": "execute_result"
    }
   ],
   "source": [
    "log_l1_N = logistic(df_feat_N, df_target_N, 20, 0.25, 'l1', 'mm', 20)\n",
    "log_l1_N"
   ]
  },
  {
   "cell_type": "code",
   "execution_count": 535,
   "metadata": {
    "ExecuteTime": {
     "end_time": "2019-08-12T16:15:53.659860Z",
     "start_time": "2019-08-12T16:08:25.265494Z"
    }
   },
   "outputs": [],
   "source": [
    "log_l2_R = logistic(df_feat_R, df_target_R, 20, 0.25, 'l2', 'mm', 20)\n",
    "svm_l1_R = svm(df_feat_R, df_target_R, 20, 0.25, 'l1', 'mm', 20)\n",
    "svm_l2_R = svm(df_feat_R, df_target_R, 20, 0.25, 'l2', 'mm', 20)"
   ]
  },
  {
   "cell_type": "code",
   "execution_count": 257,
   "metadata": {
    "ExecuteTime": {
     "end_time": "2019-08-12T12:40:58.651651Z",
     "start_time": "2019-08-12T12:39:27.628029Z"
    }
   },
   "outputs": [
    {
     "data": {
      "text/plain": [
       "['Logistic l1',\n",
       " 68.1098,\n",
       " 'C = 0.1',\n",
       " 'mm',\n",
       " [('Rate', -4.433098385868142),\n",
       "  ('Previous Rate', 4.008271949382192),\n",
       "  ('Amount', -1.6746415867566313),\n",
       "  ('FICO', -1.4512340342920138),\n",
       "  ('Partner Bin_2', -1.3749444801829434),\n",
       "  ('Competition rate', 1.0170673586524004),\n",
       "  ('Tier', -0.7451011918298407),\n",
       "  ('Term', 0.5366315378851123),\n",
       "  ('Cost of Funds', 0.37030708498827175),\n",
       "  ('Partner Bin_1', 0.33018533228190133),\n",
       "  ('Partner Bin_3', 0.12725923799579622)],\n",
       " array([-0.74510119, -1.45123403,  0.53663154, -1.67464159,  4.00827195,\n",
       "         1.01706736, -4.43309839,  0.37030708,  0.33018533, -1.37494448,\n",
       "         0.12725924]),\n",
       " 0.05443337451613453]"
      ]
     },
     "execution_count": 257,
     "metadata": {},
     "output_type": "execute_result"
    }
   ],
   "source": [
    "log_l1_R = logistic(df_feat_R, df_target_R, 20, 0.25, 'l1', 'mm', 20)\n",
    "log_l1_R"
   ]
  },
  {
   "cell_type": "code",
   "execution_count": 536,
   "metadata": {
    "ExecuteTime": {
     "end_time": "2019-08-12T16:23:46.135059Z",
     "start_time": "2019-08-12T16:15:53.783505Z"
    }
   },
   "outputs": [],
   "source": [
    "log_l2_U = logistic(df_feat_U, df_target_U, 20, 0.25, 'l2', 'mm', 20)\n",
    "svm_l1_U = svm(df_feat_U, df_target_U, 20, 0.25, 'l1', 'mm', 20)\n",
    "svm_l2_U = svm(df_feat_U, df_target_U, 20, 0.25, 'l2', 'mm', 20)"
   ]
  },
  {
   "cell_type": "code",
   "execution_count": 258,
   "metadata": {
    "ExecuteTime": {
     "end_time": "2019-08-12T12:46:40.691996Z",
     "start_time": "2019-08-12T12:40:58.724969Z"
    }
   },
   "outputs": [
    {
     "data": {
      "text/plain": [
       "['Logistic l1',\n",
       " 77.8908,\n",
       " 'C = 3',\n",
       " 'mm',\n",
       " [('Amount', -12.98831814228089),\n",
       "  ('Rate', -9.858138927608556),\n",
       "  ('Term', 1.9837762828851537),\n",
       "  ('Tier', 1.74288389196652),\n",
       "  ('Competition rate', 1.3675499758344458),\n",
       "  ('FICO', -0.9983529738517549),\n",
       "  ('Partner Bin_1', 0.8870592055511479),\n",
       "  ('Partner Bin_3', 0.5092272659219199),\n",
       "  ('Cost of Funds', -0.19414269533786707),\n",
       "  ('Partner Bin_2', 0.0)],\n",
       " array([  1.74288389,  -0.99835297,   1.98377628, -12.98831814,\n",
       "          1.36754998,  -9.85813893,  -0.1941427 ,   0.88705921,\n",
       "          0.        ,   0.50922727]),\n",
       " 2.3034431745537756]"
      ]
     },
     "execution_count": 258,
     "metadata": {},
     "output_type": "execute_result"
    }
   ],
   "source": [
    "log_l1_U = logistic(df_feat_U, df_target_U, 20, 0.25, 'l1', 'mm', 20)\n",
    "log_l1_U"
   ]
  },
  {
   "cell_type": "code",
   "execution_count": 537,
   "metadata": {
    "ExecuteTime": {
     "end_time": "2019-08-12T16:23:46.285610Z",
     "start_time": "2019-08-12T16:23:46.262671Z"
    }
   },
   "outputs": [],
   "source": [
    "cols = ['Machine Learning Method', 'Test Accuracy', 'Best Parameter', 'Scaler', 'Top Predictor Variables', 'Coeffs', 'Intercept']\n",
    "df_summary_N = pd.DataFrame(columns=cols)\n",
    "\n",
    "df_summary_N.loc[0] = log_l1_N\n",
    "df_summary_N.loc[1] = log_l2_N\n",
    "df_summary_N.loc[2] = svm_l1_N\n",
    "df_summary_N.loc[3] = svm_l2_N"
   ]
  },
  {
   "cell_type": "code",
   "execution_count": 552,
   "metadata": {
    "ExecuteTime": {
     "end_time": "2019-08-12T16:50:01.261538Z",
     "start_time": "2019-08-12T16:50:01.250568Z"
    }
   },
   "outputs": [
    {
     "data": {
      "text/html": [
       "<div>\n",
       "<style scoped>\n",
       "    .dataframe tbody tr th:only-of-type {\n",
       "        vertical-align: middle;\n",
       "    }\n",
       "\n",
       "    .dataframe tbody tr th {\n",
       "        vertical-align: top;\n",
       "    }\n",
       "\n",
       "    .dataframe thead th {\n",
       "        text-align: right;\n",
       "    }\n",
       "</style>\n",
       "<table border=\"1\" class=\"dataframe\">\n",
       "  <thead>\n",
       "    <tr style=\"text-align: right;\">\n",
       "      <th></th>\n",
       "      <th>Machine Learning Method</th>\n",
       "      <th>Test Accuracy</th>\n",
       "      <th>Best Parameter</th>\n",
       "    </tr>\n",
       "  </thead>\n",
       "  <tbody>\n",
       "    <tr>\n",
       "      <th>0</th>\n",
       "      <td>Logistic l1</td>\n",
       "      <td>92.3062</td>\n",
       "      <td>C = 100</td>\n",
       "    </tr>\n",
       "    <tr>\n",
       "      <th>1</th>\n",
       "      <td>Logistic l2</td>\n",
       "      <td>92.3323</td>\n",
       "      <td>C = 5</td>\n",
       "    </tr>\n",
       "    <tr>\n",
       "      <th>2</th>\n",
       "      <td>SVM l1</td>\n",
       "      <td>92.3329</td>\n",
       "      <td>C = 1e-08</td>\n",
       "    </tr>\n",
       "    <tr>\n",
       "      <th>3</th>\n",
       "      <td>SVM l2</td>\n",
       "      <td>92.3208</td>\n",
       "      <td>C = 1e-08</td>\n",
       "    </tr>\n",
       "  </tbody>\n",
       "</table>\n",
       "</div>"
      ],
      "text/plain": [
       "  Machine Learning Method  Test Accuracy Best Parameter\n",
       "0             Logistic l1        92.3062        C = 100\n",
       "1             Logistic l2        92.3323          C = 5\n",
       "2                  SVM l1        92.3329      C = 1e-08\n",
       "3                  SVM l2        92.3208      C = 1e-08"
      ]
     },
     "execution_count": 552,
     "metadata": {},
     "output_type": "execute_result"
    }
   ],
   "source": [
    "df_summary_N = df_summary_N.drop(['Scaler', 'Coeffs', 'Intercept', 'Top Predictor Variables'], axis=1)\n",
    "df_summary_N.loc[3] = ['SVM l2', 92.3208, 'C = 1e-08']\n",
    "df_summary_N.loc[2] = ['SVM l1', 92.3329, 'C = 1e-08']\n",
    "df_summary_N"
   ]
  },
  {
   "cell_type": "code",
   "execution_count": 538,
   "metadata": {
    "ExecuteTime": {
     "end_time": "2019-08-12T16:23:46.464162Z",
     "start_time": "2019-08-12T16:23:46.445185Z"
    }
   },
   "outputs": [],
   "source": [
    "cols = ['Machine Learning Method', 'Test Accuracy', 'Best Parameter', 'Scaler', 'Top Predictor Variables', 'Coeffs', 'Intercept']\n",
    "df_summary_R = pd.DataFrame(columns=cols)\n",
    "\n",
    "df_summary_R.loc[0] = log_l1_R\n",
    "df_summary_R.loc[1] = log_l2_R\n",
    "df_summary_R.loc[2] = svm_l1_R\n",
    "df_summary_R.loc[3] = svm_l2_R"
   ]
  },
  {
   "cell_type": "code",
   "execution_count": 546,
   "metadata": {
    "ExecuteTime": {
     "end_time": "2019-08-12T16:31:31.815996Z",
     "start_time": "2019-08-12T16:31:31.808018Z"
    }
   },
   "outputs": [
    {
     "data": {
      "text/html": [
       "<div>\n",
       "<style scoped>\n",
       "    .dataframe tbody tr th:only-of-type {\n",
       "        vertical-align: middle;\n",
       "    }\n",
       "\n",
       "    .dataframe tbody tr th {\n",
       "        vertical-align: top;\n",
       "    }\n",
       "\n",
       "    .dataframe thead th {\n",
       "        text-align: right;\n",
       "    }\n",
       "</style>\n",
       "<table border=\"1\" class=\"dataframe\">\n",
       "  <thead>\n",
       "    <tr style=\"text-align: right;\">\n",
       "      <th></th>\n",
       "      <th>Machine Learning Method</th>\n",
       "      <th>Test Accuracy</th>\n",
       "      <th>Best Parameter</th>\n",
       "    </tr>\n",
       "  </thead>\n",
       "  <tbody>\n",
       "    <tr>\n",
       "      <th>0</th>\n",
       "      <td>Logistic l1</td>\n",
       "      <td>68.1098</td>\n",
       "      <td>C = 0.1</td>\n",
       "    </tr>\n",
       "    <tr>\n",
       "      <th>1</th>\n",
       "      <td>Logistic l2</td>\n",
       "      <td>68.0357</td>\n",
       "      <td>C = 0.75</td>\n",
       "    </tr>\n",
       "    <tr>\n",
       "      <th>2</th>\n",
       "      <td>SVM l1</td>\n",
       "      <td>67.4413</td>\n",
       "      <td>C = 0.1</td>\n",
       "    </tr>\n",
       "    <tr>\n",
       "      <th>3</th>\n",
       "      <td>SVM l2</td>\n",
       "      <td>67.6264</td>\n",
       "      <td>C = 0.1</td>\n",
       "    </tr>\n",
       "  </tbody>\n",
       "</table>\n",
       "</div>"
      ],
      "text/plain": [
       "  Machine Learning Method  Test Accuracy Best Parameter\n",
       "0             Logistic l1        68.1098        C = 0.1\n",
       "1             Logistic l2        68.0357       C = 0.75\n",
       "2                  SVM l1        67.4413        C = 0.1\n",
       "3                  SVM l2        67.6264        C = 0.1"
      ]
     },
     "execution_count": 546,
     "metadata": {},
     "output_type": "execute_result"
    }
   ],
   "source": [
    "df_summary_R.drop(['Scaler', 'Coeffs', 'Intercept', 'Top Predictor Variables'], axis=1)"
   ]
  },
  {
   "cell_type": "code",
   "execution_count": 539,
   "metadata": {
    "ExecuteTime": {
     "end_time": "2019-08-12T16:23:46.626699Z",
     "start_time": "2019-08-12T16:23:46.608746Z"
    }
   },
   "outputs": [],
   "source": [
    "cols = ['Machine Learning Method', 'Test Accuracy', 'Best Parameter', 'Scaler', 'Top Predictor Variables', 'Coeffs', 'Intercept']\n",
    "df_summary_U = pd.DataFrame(columns=cols)\n",
    "\n",
    "df_summary_U.loc[0] = log_l1_U\n",
    "df_summary_U.loc[1] = log_l2_U\n",
    "df_summary_U.loc[2] = svm_l1_U\n",
    "df_summary_U.loc[3] = svm_l2_U"
   ]
  },
  {
   "cell_type": "code",
   "execution_count": 547,
   "metadata": {
    "ExecuteTime": {
     "end_time": "2019-08-12T16:31:38.187760Z",
     "start_time": "2019-08-12T16:31:38.178766Z"
    }
   },
   "outputs": [
    {
     "data": {
      "text/html": [
       "<div>\n",
       "<style scoped>\n",
       "    .dataframe tbody tr th:only-of-type {\n",
       "        vertical-align: middle;\n",
       "    }\n",
       "\n",
       "    .dataframe tbody tr th {\n",
       "        vertical-align: top;\n",
       "    }\n",
       "\n",
       "    .dataframe thead th {\n",
       "        text-align: right;\n",
       "    }\n",
       "</style>\n",
       "<table border=\"1\" class=\"dataframe\">\n",
       "  <thead>\n",
       "    <tr style=\"text-align: right;\">\n",
       "      <th></th>\n",
       "      <th>Machine Learning Method</th>\n",
       "      <th>Test Accuracy</th>\n",
       "      <th>Best Parameter</th>\n",
       "    </tr>\n",
       "  </thead>\n",
       "  <tbody>\n",
       "    <tr>\n",
       "      <th>0</th>\n",
       "      <td>Logistic l1</td>\n",
       "      <td>77.8908</td>\n",
       "      <td>C = 3</td>\n",
       "    </tr>\n",
       "    <tr>\n",
       "      <th>1</th>\n",
       "      <td>Logistic l2</td>\n",
       "      <td>77.7148</td>\n",
       "      <td>C = 300</td>\n",
       "    </tr>\n",
       "    <tr>\n",
       "      <th>2</th>\n",
       "      <td>SVM l1</td>\n",
       "      <td>77.2249</td>\n",
       "      <td>C = 5000</td>\n",
       "    </tr>\n",
       "    <tr>\n",
       "      <th>3</th>\n",
       "      <td>SVM l2</td>\n",
       "      <td>77.0852</td>\n",
       "      <td>C = 15</td>\n",
       "    </tr>\n",
       "  </tbody>\n",
       "</table>\n",
       "</div>"
      ],
      "text/plain": [
       "  Machine Learning Method  Test Accuracy Best Parameter\n",
       "0             Logistic l1        77.8908          C = 3\n",
       "1             Logistic l2        77.7148        C = 300\n",
       "2                  SVM l1        77.2249       C = 5000\n",
       "3                  SVM l2        77.0852         C = 15"
      ]
     },
     "execution_count": 547,
     "metadata": {},
     "output_type": "execute_result"
    }
   ],
   "source": [
    "df_summary_U.drop(['Scaler', 'Coeffs', 'Intercept', 'Top Predictor Variables'], axis=1)"
   ]
  },
  {
   "cell_type": "code",
   "execution_count": 522,
   "metadata": {
    "ExecuteTime": {
     "end_time": "2019-08-12T15:29:05.069542Z",
     "start_time": "2019-08-12T15:29:04.699552Z"
    }
   },
   "outputs": [
    {
     "data": {
      "text/plain": [
       "Text(0.5, 0, 'Weight')"
      ]
     },
     "execution_count": 522,
     "metadata": {},
     "output_type": "execute_result"
    },
    {
     "data": {
      "image/png": "[encoded data removed]",
      "text/plain": [
       "<Figure size 1008x288 with 3 Axes>"
      ]
     },
     "metadata": {
      "needs_background": "light"
     },
     "output_type": "display_data"
    }
   ],
   "source": [
    "fig, ax = plt.subplots(1, 3, figsize=(14,4), gridspec_kw={'wspace':0.5})\n",
    "ax[0].barh(*zip(*log_l1_N[4][::-1]))\n",
    "ax[0].set_title('New')\n",
    "ax[1].barh(*zip(*log_l1_R[4][::-1]))\n",
    "ax[1].set_title('Refinanced')\n",
    "ax[2].barh(*zip(*log_l1_U[4][::-1]))\n",
    "ax[2].set_title('Used')\n",
    "ax[0].set_xlim(-np.abs(list(zip(*log_l1_N[4][::-1]))[1]).max()-1, np.abs(list(zip(*log_l1_N[4][::-1]))[1]).max()+1)\n",
    "ax[1].set_xlim(-np.abs(list(zip(*log_l1_R[4][::-1]))[1]).max()-1, np.abs(list(zip(*log_l1_R[4][::-1]))[1]).max()+1)\n",
    "ax[2].set_xlim(-np.abs(list(zip(*log_l1_U[4][::-1]))[1]).max()-1, np.abs(list(zip(*log_l1_U[4][::-1]))[1]).max()+1)\n",
    "ax[0].set_xlabel('Weight')\n",
    "ax[1].set_xlabel('Weight')\n",
    "ax[2].set_xlabel('Weight')"
   ]
  },
  {
   "cell_type": "markdown",
   "metadata": {},
   "source": [
    "## Optimization of profit and captured market"
   ]
  },
  {
   "cell_type": "code",
   "execution_count": 617,
   "metadata": {
    "ExecuteTime": {
     "end_time": "2019-08-13T03:52:43.894984Z",
     "start_time": "2019-08-13T03:52:22.651408Z"
    }
   },
   "outputs": [
    {
     "data": {
      "image/png": "[encoded data removed]",
      "text/plain": [
       "<Figure size 1008x360 with 2 Axes>"
      ]
     },
     "metadata": {
      "needs_background": "light"
     },
     "output_type": "display_data"
    }
   ],
   "source": [
    "from IPython.display import clear_output\n",
    "test_acc_N = log_l1_N[1]/100\n",
    "scaler_N = MinMaxScaler()\n",
    "scaler_N.fit(df_feat_N)\n",
    "xs = np.arange(-49, 49, 1)\n",
    "intercept_N = log_l1_N[-1]\n",
    "weights_N = log_l1_N[-2]\n",
    "\n",
    "accepted_Ns = []\n",
    "profits_Ns = []\n",
    "for i in xs:\n",
    "#     print((100 - i)/100)\n",
    "    dummy = df_feat_N.copy()\n",
    "    dummy['Rate'] *= (100 - i) / 100\n",
    "    df_feat_mm = pd.DataFrame(scaler_N.transform(dummy), columns = dummy.columns)\n",
    "    y = (df_feat_mm*weights_N).sum(axis=1) + intercept_N\n",
    "    p = 1 / (1 + np.exp(-y))\n",
    "\n",
    "    accepted_N = []\n",
    "    profits_N = []\n",
    "    for _ in range(20):\n",
    "        diceroll = np.random.random(len(dummy))\n",
    "        dummys = dummy[(diceroll<p).values]\n",
    "        profit_person = ((dummys['Amount']*((dummys['Rate'] - dummys['Cost of Funds'])/100)*dummys['Term']/12).reset_index(drop=True))\n",
    "        profit_total = profit_person[profit_person>0].sum()\n",
    "        profits_N.append(profit_total)\n",
    "        accepted_N.append(len(dummys)/len(df_feat_N))\n",
    "    accepted_Ns.append(accepted_N)\n",
    "    profits_Ns.append(profits_N)\n",
    "    \n",
    "df_N = pd.DataFrame(profits_Ns)\n",
    "market_share_N = pd.DataFrame(accepted_Ns)\n",
    "\n",
    "fig, ax = plt.subplots(1, 2, figsize=(14,5))\n",
    "ax[0].plot(-xs, df_N.mean(axis=1),zorder=2)\n",
    "ax[0].fill_between(-xs, df_N.min(axis=1), df_N.max(axis=1),zorder=1, alpha=0.5)\n",
    "ax[0].set_yticks(np.arange(26e6, 43e6, 2e6))\n",
    "ax[0].set_yticklabels([f'{int(i//1e6)}' for i in np.arange(26e6, 43e6, 2e6)])\n",
    "ax[0].set_xlabel(r'$\\Delta\\,$Rate (%)')\n",
    "ax[0].set_ylabel('Total Projected Revenue (in million dollars)')\n",
    "ax[0].plot([0, 0], [0, df_N.mean(axis=1)[xs==0].iloc[0]], 'r--')\n",
    "ax[0].plot([-xs[np.argmax(df_N.mean(axis=1))], -xs[np.argmax(df_N.mean(axis=1))]], [0, np.max(df_N.mean(axis=1))], 'g--')\n",
    "ax[0].plot([-100, -xs[np.argmax(df_N.mean(axis=1))]], [np.max(df_N.mean(axis=1)), np.max(df_N.mean(axis=1))], 'g--')\n",
    "sq_left = np.interp(df_N.mean(axis=1)[xs==0], df_N.mean(axis=1)[(-xs)<(-25)][::-1], (-xs)[(-xs)<(-25)][::-1])[0]\n",
    "sq_right = 0\n",
    "sq_bot = df_N.mean(axis=1)[xs==0].iloc[0]\n",
    "sq_top = df_N.mean(axis=1)[xs==0].iloc[0]\n",
    "# ax[0].fill_between([sq_left, sq_right], [sq_bot, sq_top], alpha=0.5)\n",
    "ax[0].fill_between(-xs[(-xs>=sq_left) & (-xs<=sq_right)], df_N.mean(axis=1)[(-xs>=sq_left) & (-xs<=sq_right)], color='y', alpha=0.4)\n",
    "ax[0].plot([-100, 0], [df_N.mean(axis=1)[xs==0].iloc[0], df_N.mean(axis=1)[xs==0].iloc[0]], 'r--')\n",
    "ax[0].set_ylim(25e6,)\n",
    "ax[0].set_xlim(-53)\n",
    "ax[1].plot(-xs, 100*market_share_N.mean(axis=1), c='orange')\n",
    "ax[1].set_xlabel(r'$\\Delta\\,$Rate (%)')\n",
    "ax[1].set_ylabel('Captured Market (%)')\n",
    "ax[1].plot([0, 0], [0, 100*market_share_N.mean(axis=1)[xs==0].iloc[0]], 'r--')\n",
    "ax[1].plot([-60, 0], [100*market_share_N.mean(axis=1)[xs==0].iloc[0], 100*market_share_N.mean(axis=1)[xs==0].iloc[0]], 'r--')\n",
    "ax[1].plot([-xs[np.argmax(df_N.mean(axis=1))], -xs[np.argmax(df_N.mean(axis=1))]],\n",
    "           [0, (100*market_share_N.mean(axis=1))[np.argmax(df_N.mean(axis=1))]], 'g--')\n",
    "ax[1].plot([-100, -xs[np.argmax(df_N.mean(axis=1))]],\n",
    "           [(100*market_share_N.mean(axis=1))[np.argmax(df_N.mean(axis=1))], (100*market_share_N.mean(axis=1))[np.argmax(df_N.mean(axis=1))]], 'g--')\n",
    "ax[1].set_ylim(2,)\n",
    "ax[1].set_xlim(-52.5)\n",
    "ax[1].fill_between(-xs[(-xs>=sq_left) & (-xs<=sq_right)], 100*market_share_N.mean(axis=1)[(-xs>=sq_left) & (-xs<=sq_right)], color='y', alpha=0.4)\n",
    "\n",
    "fig.suptitle(\"NEW\",size=20);"
   ]
  },
  {
   "cell_type": "code",
   "execution_count": 632,
   "metadata": {
    "ExecuteTime": {
     "end_time": "2019-08-13T03:58:46.566880Z",
     "start_time": "2019-08-13T03:58:46.544858Z"
    }
   },
   "outputs": [],
   "source": [
    "current_money_N = df_N.mean(axis=1)[xs==0].iloc[0]\n",
    "current_market_N = 100*market_share_N.mean(axis=1)[xs==0].iloc[0]\n",
    "\n",
    "max_money_N = np.max(df_N.mean(axis=1))\n",
    "max_money_market_N = (100*market_share_N.mean(axis=1))[np.argmax(df_N.mean(axis=1))]\n",
    "max_money_rate_N = -xs[np.argmax(df_N.mean(axis=1))]\n",
    "\n",
    "max_market_N = np.interp(np.interp(df_N.mean(axis=1)[xs==0], df_N.mean(axis=1)[(-xs)<(-25)][::-1], (-xs)[(-xs)<(-25)][::-1])[0], -xs[::-1], 100*market_share_N.mean(axis=1)[::-1])\n",
    "max_market_rate_N = np.interp(df_N.mean(axis=1)[xs==0], df_N.mean(axis=1)[(-xs)<(-25)][::-1], (-xs)[(-xs)<(-25)][::-1])[0]"
   ]
  },
  {
   "cell_type": "code",
   "execution_count": 620,
   "metadata": {
    "ExecuteTime": {
     "end_time": "2019-08-13T03:53:33.787628Z",
     "start_time": "2019-08-13T03:53:13.636456Z"
    }
   },
   "outputs": [
    {
     "data": {
      "image/png": "[encoded data removed]",
      "text/plain": [
       "<Figure size 1008x360 with 2 Axes>"
      ]
     },
     "metadata": {
      "needs_background": "light"
     },
     "output_type": "display_data"
    }
   ],
   "source": [
    "from IPython.display import clear_output\n",
    "test_acc_R = log_l1_R[1]/100\n",
    "scaler_R = MinMaxScaler()\n",
    "scaler_R.fit(df_feat_R)\n",
    "xs = np.arange(-49, 49, 1)\n",
    "intercept_R = log_l1_R[-1]\n",
    "weights_R = log_l1_R[-2]\n",
    "\n",
    "accepted_Rs = []\n",
    "profits_Rs = []\n",
    "for i in xs:\n",
    "#     print((100 - i)/100)\n",
    "    dummy = df_feat_R.copy()\n",
    "    dummy['Rate'] *= (100 - i) / 100\n",
    "    df_feat_mm = pd.DataFrame(scaler_R.transform(dummy), columns = dummy.columns)\n",
    "    y = (df_feat_mm*weights_R).sum(axis=1) + intercept_R\n",
    "    p = 1 / (1 + np.exp(-y))\n",
    "\n",
    "    accepted_R = []\n",
    "    profits_R = []\n",
    "    for _ in range(20):\n",
    "        diceroll = np.random.random(len(dummy))\n",
    "        dummys = dummy[(diceroll<p).values]\n",
    "        profit_person = ((dummys['Amount']*((dummys['Rate'] - dummys['Cost of Funds'])/100)*dummys['Term']/12).reset_index(drop=True))\n",
    "        profit_total = profit_person[profit_person>0].sum()\n",
    "        profits_R.append(profit_total)\n",
    "        accepted_R.append(len(dummys)/len(df_feat_R))\n",
    "    accepted_Rs.append(accepted_R)\n",
    "    profits_Rs.append(profits_R)\n",
    "    \n",
    "df_R = pd.DataFrame(profits_Rs)\n",
    "market_share_R = pd.DataFrame(accepted_Rs)\n",
    "\n",
    "fig, ax = plt.subplots(1, 2, figsize=(14,5))\n",
    "ax[0].plot(-xs, df_R.mean(axis=1),zorder=2)\n",
    "ax[0].fill_between(-xs, df_R.min(axis=1), df_R.max(axis=1),zorder=1, alpha=0.5)\n",
    "ax[0].set_yticks(np.arange(35e6, 71e6, 5e6))\n",
    "ax[0].set_yticklabels([f'{int(i//1e6)}' for i in np.arange(35e6, 71e6, 5e6)])\n",
    "ax[0].set_xlabel(r'$\\Delta\\,$Rate (%)')\n",
    "ax[0].set_ylabel('Total Projected Revenue (in million dollars)')\n",
    "ax[0].plot([0, 0], [0, df_R.mean(axis=1)[xs==0].iloc[0]], 'r--')\n",
    "# ax[0].plot([-xs[np.argmax(df_R.mean(axis=1))], -xs[np.argmax(df_R.mean(axis=1))]], [0, np.max(df_R.mean(axis=1))], 'r--')\n",
    "ax[0].plot([-100, 0], [df_R.mean(axis=1)[xs==0].iloc[0], df_R.mean(axis=1)[xs==0].iloc[0]], 'r--')\n",
    "ax[0].set_ylim(41e6,)\n",
    "ax[0].set_xlim(-53)\n",
    "ax[1].plot(-xs, 100*market_share_R.mean(axis=1), c='orange')\n",
    "ax[1].set_xlabel(r'$\\Delta\\,$Rate (%)')\n",
    "ax[1].set_ylabel('Captured Market (%)')\n",
    "ax[1].plot([0, 0], [0, 100*market_share_R.mean(axis=1)[xs==0].iloc[0]], 'r--')\n",
    "ax[1].plot([-60, 0], [100*market_share_R.mean(axis=1)[xs==0].iloc[0], 100*market_share_R.mean(axis=1)[xs==0].iloc[0]], 'r--')\n",
    "ax[1].set_ylim(17.5,)\n",
    "ax[1].set_xlim(-52.5)\n",
    "fig.suptitle(\"REFINANCED\",size=20);"
   ]
  },
  {
   "cell_type": "code",
   "execution_count": 640,
   "metadata": {
    "ExecuteTime": {
     "end_time": "2019-08-13T04:01:34.949142Z",
     "start_time": "2019-08-13T04:01:34.926365Z"
    }
   },
   "outputs": [],
   "source": [
    "current_money_R = df_R.mean(axis=1)[xs==0].iloc[0]\n",
    "current_market_R = 100*market_share_R.mean(axis=1)[xs==0].iloc[0]\n",
    "\n",
    "max_money_R = np.max(df_R.mean(axis=1))\n",
    "max_money_market_R = (100*market_share_R.mean(axis=1))[np.argmax(df_R.mean(axis=1))]\n",
    "max_money_rate_R = -xs[np.argmax(df_R.mean(axis=1))]\n",
    "\n",
    "\n",
    "max_market_R = np.interp(np.interp(df_R.mean(axis=1)[xs==0], df_R.mean(axis=1)[(-xs)<(5)][::-1], (-xs)[(-xs)<(5)][::-1])[0], -xs[::-1], 100*market_share_R.mean(axis=1)[::-1])\n",
    "\n",
    "max_market_rate_R = np.interp(df_R.mean(axis=1)[xs==0], df_R.mean(axis=1)[(-xs)<(5)][::-1], (-xs)[(-xs)<(5)][::-1])[0]"
   ]
  },
  {
   "cell_type": "code",
   "execution_count": 622,
   "metadata": {
    "ExecuteTime": {
     "end_time": "2019-08-13T03:54:10.244309Z",
     "start_time": "2019-08-13T03:53:52.174352Z"
    }
   },
   "outputs": [
    {
     "data": {
      "image/png": "[encoded data removed]",
      "text/plain": [
       "<Figure size 1008x360 with 2 Axes>"
      ]
     },
     "metadata": {
      "needs_background": "light"
     },
     "output_type": "display_data"
    }
   ],
   "source": [
    "from IPython.display import clear_output\n",
    "test_acc_U = log_l1_U[1]/100\n",
    "scaler_U = MinMaxScaler()\n",
    "scaler_U.fit(df_feat_U)\n",
    "xs = np.arange(-49, 49, 1)\n",
    "intercept_U = log_l1_U[-1]\n",
    "weights_U = log_l1_U[-2]\n",
    "\n",
    "accepted_Us = []\n",
    "profits_Us = []\n",
    "for i in xs:\n",
    "#     print((100 - i)/100)\n",
    "    dummy = df_feat_U.copy()\n",
    "    dummy['Rate'] *= (100 - i) / 100\n",
    "    df_feat_mm = pd.DataFrame(scaler_U.transform(dummy), columns = dummy.columns)\n",
    "    y = (df_feat_mm*weights_U).sum(axis=1) + intercept_U\n",
    "    p = 1 / (1 + np.exp(-y))\n",
    "\n",
    "    accepted_U = []\n",
    "    profits_U = []\n",
    "    for _ in range(20):\n",
    "        diceroll = np.random.random(len(dummy))\n",
    "        dummys = dummy[(diceroll<p).values]\n",
    "        profit_person = ((dummys['Amount']*((dummys['Rate'] - dummys['Cost of Funds'])/100)*dummys['Term']/12).reset_index(drop=True))\n",
    "        profit_total = profit_person[profit_person>0].sum()\n",
    "        profits_U.append(profit_total)\n",
    "        accepted_U.append(len(dummys)/len(df_feat_U))\n",
    "    accepted_Us.append(accepted_U)\n",
    "    profits_Us.append(profits_U)\n",
    "    \n",
    "df_U = pd.DataFrame(profits_Us)\n",
    "market_share_U = pd.DataFrame(accepted_Us)\n",
    "\n",
    "fig, ax = plt.subplots(1, 2, figsize=(14,5))\n",
    "sq_left = np.interp(df_U.mean(axis=1)[xs==0], df_U.mean(axis=1)[(-xs)<(-30)][::-1], (-xs)[(-xs)<(-30)][::-1])[0]\n",
    "sq_right = 0\n",
    "sq_bot = df_U.mean(axis=1)[xs==0].iloc[0]\n",
    "sq_top = df_U.mean(axis=1)[xs==0].iloc[0]\n",
    "ax[0].plot(-xs, df_U.mean(axis=1),zorder=2)\n",
    "ax[0].fill_between(-xs, df_U.min(axis=1), df_U.max(axis=1),zorder=1, alpha=0.5)\n",
    "ax[0].set_yticks(np.arange(20e6, 91e6, 10e6))\n",
    "ax[0].set_yticklabels([f'{int(i//1e6)}' for i in np.arange(20e6, 91e6, 10e6)])\n",
    "ax[0].set_xlabel(r'$\\Delta\\,$Rate (%)')\n",
    "ax[0].set_ylabel('Total Projected Revenue (in million dollars)')\n",
    "ax[0].plot([0, 0], [0, df_U.mean(axis=1)[xs==0].iloc[0]], 'r--')\n",
    "ax[0].plot([-xs[np.argmax(df_U.mean(axis=1))], -xs[np.argmax(df_U.mean(axis=1))]], [0, np.max(df_U.mean(axis=1))], 'g--')\n",
    "ax[0].plot([-100, -xs[np.argmax(df_U.mean(axis=1))]], [np.max(df_U.mean(axis=1)), np.max(df_U.mean(axis=1))], 'g--')\n",
    "ax[0].plot([-100, 0], [df_U.mean(axis=1)[xs==0].iloc[0], df_U.mean(axis=1)[xs==0].iloc[0]], 'r--')\n",
    "ax[0].fill_between(-xs[(-xs>=sq_left) & (-xs<=sq_right)], df_U.mean(axis=1)[(-xs>=sq_left) & (-xs<=sq_right)], color='y', alpha=0.4)\n",
    "ax[0].set_ylim(20e6,)\n",
    "ax[0].set_xlim(-53)\n",
    "ax[1].plot(-xs, 100*market_share_U.mean(axis=1), c='orange')\n",
    "ax[1].set_xlabel(r'$\\Delta\\,$Rate (%)')\n",
    "ax[1].set_ylabel('Captured Market (%)')\n",
    "ax[1].plot([0, 0], [0, 100*market_share_U.mean(axis=1)[xs==0].iloc[0]], 'r--')\n",
    "ax[1].plot([-60, 0], [100*market_share_U.mean(axis=1)[xs==0].iloc[0], 100*market_share_U.mean(axis=1)[xs==0].iloc[0]], 'r--')\n",
    "ax[1].plot([-xs[np.argmax(df_U.mean(axis=1))], -xs[np.argmax(df_U.mean(axis=1))]],\n",
    "           [0, (100*market_share_U.mean(axis=1))[np.argmax(df_U.mean(axis=1))]], 'g--')\n",
    "ax[1].plot([-100, -xs[np.argmax(df_U.mean(axis=1))]],\n",
    "           [(100*market_share_U.mean(axis=1))[np.argmax(df_U.mean(axis=1))], (100*market_share_U.mean(axis=1))[np.argmax(df_U.mean(axis=1))]], 'g--')\n",
    "ax[1].fill_between(-xs[(-xs>=sq_left) & (-xs<=sq_right)], 100*market_share_U.mean(axis=1)[(-xs>=sq_left) & (-xs<=sq_right)], color='y', alpha=0.4)\n",
    "ax[1].set_ylim(2,)\n",
    "ax[1].set_xlim(-52.5)\n",
    "fig.suptitle(\"USED\",size=20);"
   ]
  },
  {
   "cell_type": "code",
   "execution_count": 634,
   "metadata": {
    "ExecuteTime": {
     "end_time": "2019-08-13T03:58:57.416261Z",
     "start_time": "2019-08-13T03:58:57.394552Z"
    }
   },
   "outputs": [],
   "source": [
    "current_money_U = df_U.mean(axis=1)[xs==0].iloc[0]\n",
    "current_market_U = 100*market_share_U.mean(axis=1)[xs==0].iloc[0]\n",
    "\n",
    "max_money_U = np.max(df_U.mean(axis=1))\n",
    "max_money_market_U = (100*market_share_U.mean(axis=1))[np.argmax(df_U.mean(axis=1))]\n",
    "max_money_rate_U = -xs[np.argmax(df_U.mean(axis=1))]\n",
    "\n",
    "max_market_U = np.interp(np.interp(df_U.mean(axis=1)[xs==0], df_U.mean(axis=1)[(-xs)<(-25)][::-1], (-xs)[(-xs)<(-25)][::-1])[0], -xs[::-1], 100*market_share_U.mean(axis=1)[::-1])\n",
    "max_market_rate_U = np.interp(df_U.mean(axis=1)[xs==0], df_U.mean(axis=1)[(-xs)<(-25)][::-1], (-xs)[(-xs)<(-25)][::-1])[0]"
   ]
  },
  {
   "cell_type": "code",
   "execution_count": 642,
   "metadata": {
    "ExecuteTime": {
     "end_time": "2019-08-13T04:01:47.760202Z",
     "start_time": "2019-08-13T04:01:47.729576Z"
    }
   },
   "outputs": [],
   "source": [
    "tuples = [('Current', 'Profit (in million dollars)'), ('Current', 'Captured market (%)'), ('Maximum profit','Profit (in million dollars)'), ('Maximum profit','Captured market (%)'), ('Maximum profit','Rate Change (%)'), ('Maximum captured market','Capture market (%)'), ('Maximum captured market','Rate Change (%)')]\n",
    "index = pd.MultiIndex.from_tuples(tuples, names=['', ''])\n",
    "df_summary2 = pd.DataFrame(columns=index)\n",
    "pd.options.display.float_format = '{:,.2f}'.format\n",
    "\n",
    "df_summary2.loc['New'] = [current_money_N/1e6, current_market_N, max_money_N/1e6, max_money_market_N, max_money_rate_N, max_market_N, max_market_rate_N]\n",
    "df_summary2.loc['Used'] = [current_money_U/1e6, current_market_U, max_money_U/1e6, max_money_market_U, max_money_rate_U, max_market_U, max_market_rate_U]\n",
    "df_summary2.loc['Refinanced'] = [current_money_R/1e6, current_market_R, max_money_R/1e6, max_money_market_R, max_money_rate_R, max_market_R, max_market_rate_R]"
   ]
  },
  {
   "cell_type": "code",
   "execution_count": 643,
   "metadata": {
    "ExecuteTime": {
     "end_time": "2019-08-13T04:01:48.599061Z",
     "start_time": "2019-08-13T04:01:48.586815Z"
    }
   },
   "outputs": [
    {
     "data": {
      "text/html": [
       "<div>\n",
       "<style scoped>\n",
       "    .dataframe tbody tr th:only-of-type {\n",
       "        vertical-align: middle;\n",
       "    }\n",
       "\n",
       "    .dataframe tbody tr th {\n",
       "        vertical-align: top;\n",
       "    }\n",
       "\n",
       "    .dataframe thead tr th {\n",
       "        text-align: left;\n",
       "    }\n",
       "</style>\n",
       "<table border=\"1\" class=\"dataframe\">\n",
       "  <thead>\n",
       "    <tr>\n",
       "      <th></th>\n",
       "      <th colspan=\"2\" halign=\"left\">Current</th>\n",
       "      <th colspan=\"3\" halign=\"left\">Maximum profit</th>\n",
       "      <th colspan=\"2\" halign=\"left\">Maximum captured market</th>\n",
       "    </tr>\n",
       "    <tr>\n",
       "      <th></th>\n",
       "      <th>Profit (in million dollars)</th>\n",
       "      <th>Captured market (%)</th>\n",
       "      <th>Profit (in million dollars)</th>\n",
       "      <th>Captured market (%)</th>\n",
       "      <th>Rate Change (%)</th>\n",
       "      <th>Capture market (%)</th>\n",
       "      <th>Rate Change (%)</th>\n",
       "    </tr>\n",
       "  </thead>\n",
       "  <tbody>\n",
       "    <tr>\n",
       "      <th>New</th>\n",
       "      <td>38.58</td>\n",
       "      <td>7.12</td>\n",
       "      <td>40.33</td>\n",
       "      <td>9.78</td>\n",
       "      <td>-19.00</td>\n",
       "      <td>12.05</td>\n",
       "      <td>-32.28</td>\n",
       "    </tr>\n",
       "    <tr>\n",
       "      <th>Used</th>\n",
       "      <td>72.46</td>\n",
       "      <td>45.23</td>\n",
       "      <td>86.59</td>\n",
       "      <td>68.13</td>\n",
       "      <td>-25.00</td>\n",
       "      <td>82.92</td>\n",
       "      <td>-44.84</td>\n",
       "    </tr>\n",
       "    <tr>\n",
       "      <th>Refinanced</th>\n",
       "      <td>67.70</td>\n",
       "      <td>38.51</td>\n",
       "      <td>67.98</td>\n",
       "      <td>38.09</td>\n",
       "      <td>1.00</td>\n",
       "      <td>40.85</td>\n",
       "      <td>-5.10</td>\n",
       "    </tr>\n",
       "  </tbody>\n",
       "</table>\n",
       "</div>"
      ],
      "text/plain": [
       "                               Current                      \\\n",
       "           Profit (in million dollars) Captured market (%)   \n",
       "New                              38.58                7.12   \n",
       "Used                             72.46               45.23   \n",
       "Refinanced                       67.70               38.51   \n",
       "\n",
       "                        Maximum profit                                      \\\n",
       "           Profit (in million dollars) Captured market (%) Rate Change (%)   \n",
       "New                              40.33                9.78          -19.00   \n",
       "Used                             86.59               68.13          -25.00   \n",
       "Refinanced                       67.98               38.09            1.00   \n",
       "\n",
       "           Maximum captured market                  \n",
       "                Capture market (%) Rate Change (%)  \n",
       "New                          12.05          -32.28  \n",
       "Used                         82.92          -44.84  \n",
       "Refinanced                   40.85           -5.10  "
      ]
     },
     "execution_count": 643,
     "metadata": {},
     "output_type": "execute_result"
    }
   ],
   "source": [
    "df_summary2"
   ]
  },
  {
   "cell_type": "code",
   "execution_count": 575,
   "metadata": {
    "ExecuteTime": {
     "end_time": "2019-08-13T03:28:40.815406Z",
     "start_time": "2019-08-13T03:28:40.794575Z"
    }
   },
   "outputs": [],
   "source": [
    "current_money_N = df_N.mean(axis=1)[xs==0].iloc[0]\n",
    "current_market_N = 100*market_share_N.mean(axis=1)[xs==0].iloc[0]\n",
    "\n",
    "max_money_N = np.max(df_N.mean(axis=1))\n",
    "max_money_market_N = (100*market_share_N.mean(axis=1))[np.argmax(df_N.mean(axis=1))]\n",
    "max_money_rate_N = -xs[np.argmax(df_N.mean(axis=1))]\n",
    "\n",
    "max_market_N = np.interp(np.interp(df_N.mean(axis=1)[xs==0], df_N.mean(axis=1)[(-xs)<(-25)][::-1], (-xs)[(-xs)<(-25)][::-1])[0], -xs[::-1], 100*market_share_N.mean(axis=1)[::-1])\n",
    "max_money_rate_N = np.interp(df_N.mean(axis=1)[xs==0], df_N.mean(axis=1)[(-xs)<(-25)][::-1], (-xs)[(-xs)<(-25)][::-1])[0]"
   ]
  },
  {
   "cell_type": "code",
   "execution_count": 532,
   "metadata": {
    "ExecuteTime": {
     "end_time": "2019-08-12T15:57:28.897236Z",
     "start_time": "2019-08-12T15:57:28.890221Z"
    }
   },
   "outputs": [
    {
     "data": {
      "text/plain": [
       "-25"
      ]
     },
     "execution_count": 532,
     "metadata": {},
     "output_type": "execute_result"
    }
   ],
   "source": [
    "-xs[np.argmax(df_U.mean(axis=1))]"
   ]
  },
  {
   "cell_type": "code",
   "execution_count": 533,
   "metadata": {
    "ExecuteTime": {
     "end_time": "2019-08-12T15:58:37.927738Z",
     "start_time": "2019-08-12T15:58:37.921721Z"
    }
   },
   "outputs": [
    {
     "data": {
      "text/plain": [
       "68.08661756265545"
      ]
     },
     "execution_count": 533,
     "metadata": {},
     "output_type": "execute_result"
    }
   ],
   "source": [
    "(100*market_share_U.mean(axis=1))[np.argmax(df_U.mean(axis=1))]"
   ]
  },
  {
   "cell_type": "code",
   "execution_count": null,
   "metadata": {},
   "outputs": [],
   "source": []
  }
 ],
 "metadata": {
  "kernelspec": {
   "display_name": "Python 3",
   "language": "python",
   "name": "python3"
  },
  "language_info": {
   "codemirror_mode": {
    "name": "ipython",
    "version": 3
   },
   "file_extension": ".py",
   "mimetype": "text/x-python",
   "name": "python",
   "nbconvert_exporter": "python",
   "pygments_lexer": "ipython3",
   "version": "3.7.5"
  },
  "toc": {
   "base_numbering": 1,
   "nav_menu": {},
   "number_sections": false,
   "sideBar": true,
   "skip_h1_title": false,
   "title_cell": "Table of Contents",
   "title_sidebar": "Contents",
   "toc_cell": false,
   "toc_position": {},
   "toc_section_display": true,
   "toc_window_display": false
  },
  "varInspector": {
   "cols": {
    "lenName": 16,
    "lenType": 16,
    "lenVar": 40
   },
   "kernels_config": {
    "python": {
     "delete_cmd_postfix": "",
     "delete_cmd_prefix": "del ",
     "library": "var_list.py",
     "varRefreshCmd": "print(var_dic_list())"
    },
    "r": {
     "delete_cmd_postfix": ") ",
     "delete_cmd_prefix": "rm(",
     "library": "var_list.r",
     "varRefreshCmd": "cat(var_dic_list()) "
    }
   },
   "types_to_exclude": [
    "module",
    "function",
    "builtin_function_or_method",
    "instance",
    "_Feature"
   ],
   "window_display": false
  }
 },
 "nbformat": 4,
 "nbformat_minor": 2
}
